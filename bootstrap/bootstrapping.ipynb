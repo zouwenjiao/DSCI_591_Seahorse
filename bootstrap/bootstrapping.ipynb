{
 "cells": [
  {
   "cell_type": "markdown",
   "metadata": {},
   "source": [
    "# Bootstrapping of Average Annualised Returns\n",
    "\n",
    "__\"Bootstrapping\" is a form of random resampling method that performs same size re-sampling with replacement__. This can help to illustrate the uncertainty in terms of samples estimation (such as mean values). An illustration is shown below on how bootstrap sampling is performed."
   ]
  },
  {
   "cell_type": "markdown",
   "metadata": {},
   "source": [
    "<!-- ![](./img/bootstrap_demo.png) -->\n",
    "<div align=\"center\">\n",
    "    <img src=./img/bootstrap_demo.png>\n",
    "</div>"
   ]
  },
  {
   "cell_type": "markdown",
   "metadata": {},
   "source": [
    "With multiple bootstrap samples, we can calculate the mean of each bootstrap sample and plot the histogram to visualise the uncertainty/variance in the mean estimates."
   ]
  },
  {
   "cell_type": "markdown",
   "metadata": {},
   "source": [
    "### Bootstrapping of Seahorse's Composite Strategy Annualised Returns "
   ]
  },
  {
   "cell_type": "markdown",
   "metadata": {},
   "source": [
    "For each strategy, we have a yearly breakdown of the annualised return metric (21 values based on 21 years). As an example, the following shows the 21 yearly values of the annualised return metric for the Benchmark Strategy (Filter 1 + Filter2)."
   ]
  },
  {
   "cell_type": "code",
   "execution_count": 1,
   "metadata": {},
   "outputs": [],
   "source": [
    "import pandas as pd\n",
    "import numpy as np\n",
    "import matplotlib.pyplot as plt\n",
    "import pickle\n",
    "from os import listdir\n",
    "from os.path import isfile, join"
   ]
  },
  {
   "cell_type": "code",
   "execution_count": 2,
   "metadata": {},
   "outputs": [
    {
     "data": {
      "text/html": [
       "<div>\n",
       "<style scoped>\n",
       "    .dataframe tbody tr th:only-of-type {\n",
       "        vertical-align: middle;\n",
       "    }\n",
       "\n",
       "    .dataframe tbody tr th {\n",
       "        vertical-align: top;\n",
       "    }\n",
       "\n",
       "    .dataframe thead th {\n",
       "        text-align: right;\n",
       "    }\n",
       "</style>\n",
       "<table border=\"1\" class=\"dataframe\">\n",
       "  <thead>\n",
       "    <tr style=\"text-align: right;\">\n",
       "      <th></th>\n",
       "      <th>filter(1+2)</th>\n",
       "    </tr>\n",
       "    <tr>\n",
       "      <th>year</th>\n",
       "      <th></th>\n",
       "    </tr>\n",
       "  </thead>\n",
       "  <tbody>\n",
       "    <tr>\n",
       "      <th>2000</th>\n",
       "      <td>-0.035994</td>\n",
       "    </tr>\n",
       "    <tr>\n",
       "      <th>2001</th>\n",
       "      <td>0.398430</td>\n",
       "    </tr>\n",
       "    <tr>\n",
       "      <th>2002</th>\n",
       "      <td>-0.301696</td>\n",
       "    </tr>\n",
       "    <tr>\n",
       "      <th>2003</th>\n",
       "      <td>0.590143</td>\n",
       "    </tr>\n",
       "    <tr>\n",
       "      <th>2004</th>\n",
       "      <td>0.286830</td>\n",
       "    </tr>\n",
       "    <tr>\n",
       "      <th>2005</th>\n",
       "      <td>0.213718</td>\n",
       "    </tr>\n",
       "    <tr>\n",
       "      <th>2006</th>\n",
       "      <td>0.183338</td>\n",
       "    </tr>\n",
       "    <tr>\n",
       "      <th>2007</th>\n",
       "      <td>-0.074631</td>\n",
       "    </tr>\n",
       "    <tr>\n",
       "      <th>2008</th>\n",
       "      <td>-0.033629</td>\n",
       "    </tr>\n",
       "    <tr>\n",
       "      <th>2009</th>\n",
       "      <td>0.577619</td>\n",
       "    </tr>\n",
       "    <tr>\n",
       "      <th>2010</th>\n",
       "      <td>0.134577</td>\n",
       "    </tr>\n",
       "    <tr>\n",
       "      <th>2011</th>\n",
       "      <td>-0.138041</td>\n",
       "    </tr>\n",
       "    <tr>\n",
       "      <th>2012</th>\n",
       "      <td>0.232381</td>\n",
       "    </tr>\n",
       "    <tr>\n",
       "      <th>2013</th>\n",
       "      <td>0.586143</td>\n",
       "    </tr>\n",
       "    <tr>\n",
       "      <th>2014</th>\n",
       "      <td>0.074332</td>\n",
       "    </tr>\n",
       "    <tr>\n",
       "      <th>2015</th>\n",
       "      <td>-0.210331</td>\n",
       "    </tr>\n",
       "    <tr>\n",
       "      <th>2016</th>\n",
       "      <td>0.225343</td>\n",
       "    </tr>\n",
       "    <tr>\n",
       "      <th>2017</th>\n",
       "      <td>0.476625</td>\n",
       "    </tr>\n",
       "    <tr>\n",
       "      <th>2018</th>\n",
       "      <td>-0.302425</td>\n",
       "    </tr>\n",
       "    <tr>\n",
       "      <th>2019</th>\n",
       "      <td>0.537340</td>\n",
       "    </tr>\n",
       "    <tr>\n",
       "      <th>2020</th>\n",
       "      <td>-1.046970</td>\n",
       "    </tr>\n",
       "  </tbody>\n",
       "</table>\n",
       "</div>"
      ],
      "text/plain": [
       "      filter(1+2)\n",
       "year             \n",
       "2000    -0.035994\n",
       "2001     0.398430\n",
       "2002    -0.301696\n",
       "2003     0.590143\n",
       "2004     0.286830\n",
       "2005     0.213718\n",
       "2006     0.183338\n",
       "2007    -0.074631\n",
       "2008    -0.033629\n",
       "2009     0.577619\n",
       "2010     0.134577\n",
       "2011    -0.138041\n",
       "2012     0.232381\n",
       "2013     0.586143\n",
       "2014     0.074332\n",
       "2015    -0.210331\n",
       "2016     0.225343\n",
       "2017     0.476625\n",
       "2018    -0.302425\n",
       "2019     0.537340\n",
       "2020    -1.046970"
      ]
     },
     "execution_count": 2,
     "metadata": {},
     "output_type": "execute_result"
    }
   ],
   "source": [
    "pd.read_csv(\"./buy/f2_buy.csv\", index_col = 0)"
   ]
  },
  {
   "cell_type": "markdown",
   "metadata": {},
   "source": [
    "We can perform bootstrapping on the different strategies to understand the distribution of the average value across all years."
   ]
  },
  {
   "cell_type": "markdown",
   "metadata": {},
   "source": [
    "This notebook will compare the bootstrap samples means histogram for the __benchmark strategy (Filter 1+2)__ versus the top combinations from each composite strategy type:\n",
    "- Moving Average (MA)\n",
    "- Exponentially Weighted Moving Average (EWMA)\n",
    "- Relative Strength Index (RSI)\n",
    "- MA-MACD\n",
    "- EWMA-MACD"
   ]
  },
  {
   "cell_type": "markdown",
   "metadata": {},
   "source": [
    "# Hypothesis Testing of Composite Strategies versus Benchmark strategy"
   ]
  },
  {
   "cell_type": "markdown",
   "metadata": {},
   "source": [
    "Using the bootstrap samples, we can perform hypothesis testing of the bootstrap samples means. The hypothesis test is framed accordingly:\n",
    "- __Null Hypothesis ($H_0$)__: The average annualised return metric of the benchmark strategy is the same as the average annualised return metric of the alternate composite strategy. [$\\mu_{benchmark} = \\mu_{alternate}$]\n",
    "- __Alternate Hypothesis ($H_1$)__: The average annualised return metric of the alternate composite strategy is greater than the average annualised return metric of the benchmark strategy. [$\\mu_{alternate} > \\mu_{benchmark}$]"
   ]
  },
  {
   "cell_type": "markdown",
   "metadata": {},
   "source": [
    "For the hypothesis test, we will perform bootstrap sampling according to years, such that we can calculate the difference in annualised returns between the alternate and benchmark strategies for each resampled year. Thereafter, we find the mean of the bootstrap samples and calculate the p-value for the hypothesis test."
   ]
  },
  {
   "cell_type": "markdown",
   "metadata": {},
   "source": [
    "In consideration that we will be performing multiple hypothesis comparison, we will adopt the __Benjamini-Hochberg (BH)__ correction to control for false discovery rates."
   ]
  },
  {
   "cell_type": "markdown",
   "metadata": {},
   "source": [
    "In our following analysis, we will be importing custom functions located in the \"boostrapping_custom_functions.py\" file:\n",
    "- __bootstrap_sampling__: Performs bootstrap resampling on an input array\n",
    "- __p_adjust_bh__: Performs Benjamini-Hochberg (BH) correction for multiple hypothesis testing \n",
    "- __paired_histrograms_buy__: Visualisation function for Buy signals\n",
    "- __paired_histograms_sell__: Visualisation function for Sell signals"
   ]
  },
  {
   "cell_type": "code",
   "execution_count": 3,
   "metadata": {},
   "outputs": [],
   "source": [
    "from bootstrapping_custom_functions import bootstrap_sampling, p_adjust_bh, paired_histograms_buy, paired_histograms_sell"
   ]
  },
  {
   "cell_type": "markdown",
   "metadata": {},
   "source": [
    "## Buy/Long Signals"
   ]
  },
  {
   "cell_type": "markdown",
   "metadata": {},
   "source": [
    "Let's start with the bootstrapping and hypothesis testing of strategy comparisons for Buy/Long trade signals."
   ]
  },
  {
   "cell_type": "code",
   "execution_count": 4,
   "metadata": {},
   "outputs": [],
   "source": [
    "directory_path = \"./buy/\"\n",
    "\n",
    "files_list = [f for f in listdir(directory_path) if isfile(join(directory_path, f))]\n",
    "files_list.sort(key=len)\n",
    "for i in range(len(files_list)):\n",
    "    data_path = directory_path + files_list[i]\n",
    "\n",
    "    if i == 0:\n",
    "        buy_df = pd.read_csv(data_path, index_col = 0)\n",
    "\n",
    "    else:\n",
    "        intermediate_df = pd.read_csv(data_path, index_col = 0)\n",
    "\n",
    "        buy_df = pd.concat([buy_df, intermediate_df], axis = 1)"
   ]
  },
  {
   "cell_type": "markdown",
   "metadata": {},
   "source": [
    "For the Buy Only trade signals, we can take a look at the __best parameter combination for each strategy type__ based on the column names of the dataframe, including the benchmark strategy."
   ]
  },
  {
   "cell_type": "code",
   "execution_count": 5,
   "metadata": {},
   "outputs": [
    {
     "data": {
      "text/plain": [
       "['FILTER(1+2)',\n",
       " 'MA(28/13)',\n",
       " 'RSI(83/13)',\n",
       " 'EWMA(26/13)',\n",
       " 'MA(10/13)_MACD(5,35,5)',\n",
       " 'EWMA(12/13)_MACD(5,35,5)']"
      ]
     },
     "execution_count": 5,
     "metadata": {},
     "output_type": "execute_result"
    }
   ],
   "source": [
    "[str(i).upper() for i in buy_df.columns]"
   ]
  },
  {
   "cell_type": "markdown",
   "metadata": {},
   "source": [
    "After reading the data, we can take a look at the yearly breakdown of the annualised return metric for each strategy combination type."
   ]
  },
  {
   "cell_type": "code",
   "execution_count": 6,
   "metadata": {},
   "outputs": [
    {
     "data": {
      "text/html": [
       "<div>\n",
       "<style scoped>\n",
       "    .dataframe tbody tr th:only-of-type {\n",
       "        vertical-align: middle;\n",
       "    }\n",
       "\n",
       "    .dataframe tbody tr th {\n",
       "        vertical-align: top;\n",
       "    }\n",
       "\n",
       "    .dataframe thead th {\n",
       "        text-align: right;\n",
       "    }\n",
       "</style>\n",
       "<table border=\"1\" class=\"dataframe\">\n",
       "  <thead>\n",
       "    <tr style=\"text-align: right;\">\n",
       "      <th></th>\n",
       "      <th>filter(1+2)</th>\n",
       "      <th>ma(28/13)</th>\n",
       "      <th>rsi(83/13)</th>\n",
       "      <th>ewma(26/13)</th>\n",
       "      <th>ma(10/13)_macd(5,35,5)</th>\n",
       "      <th>ewma(12/13)_macd(5,35,5)</th>\n",
       "    </tr>\n",
       "  </thead>\n",
       "  <tbody>\n",
       "    <tr>\n",
       "      <th>2000</th>\n",
       "      <td>-0.035994</td>\n",
       "      <td>0.323607</td>\n",
       "      <td>3.005298</td>\n",
       "      <td>-0.820172</td>\n",
       "      <td>0.592585</td>\n",
       "      <td>-0.310291</td>\n",
       "    </tr>\n",
       "    <tr>\n",
       "      <th>2001</th>\n",
       "      <td>0.398430</td>\n",
       "      <td>0.479691</td>\n",
       "      <td>0.716626</td>\n",
       "      <td>0.639977</td>\n",
       "      <td>0.543886</td>\n",
       "      <td>0.610342</td>\n",
       "    </tr>\n",
       "    <tr>\n",
       "      <th>2002</th>\n",
       "      <td>-0.301696</td>\n",
       "      <td>-0.108452</td>\n",
       "      <td>0.148715</td>\n",
       "      <td>-0.058318</td>\n",
       "      <td>0.481178</td>\n",
       "      <td>0.414036</td>\n",
       "    </tr>\n",
       "    <tr>\n",
       "      <th>2003</th>\n",
       "      <td>0.590143</td>\n",
       "      <td>0.992856</td>\n",
       "      <td>0.740439</td>\n",
       "      <td>1.046737</td>\n",
       "      <td>0.599916</td>\n",
       "      <td>0.815065</td>\n",
       "    </tr>\n",
       "    <tr>\n",
       "      <th>2004</th>\n",
       "      <td>0.286830</td>\n",
       "      <td>0.274514</td>\n",
       "      <td>0.630377</td>\n",
       "      <td>0.062848</td>\n",
       "      <td>0.518141</td>\n",
       "      <td>0.045982</td>\n",
       "    </tr>\n",
       "    <tr>\n",
       "      <th>2005</th>\n",
       "      <td>0.213718</td>\n",
       "      <td>0.277258</td>\n",
       "      <td>0.552292</td>\n",
       "      <td>0.147553</td>\n",
       "      <td>0.106581</td>\n",
       "      <td>-0.047764</td>\n",
       "    </tr>\n",
       "    <tr>\n",
       "      <th>2006</th>\n",
       "      <td>0.183338</td>\n",
       "      <td>-0.220479</td>\n",
       "      <td>1.048695</td>\n",
       "      <td>-0.237680</td>\n",
       "      <td>-0.013998</td>\n",
       "      <td>0.248761</td>\n",
       "    </tr>\n",
       "    <tr>\n",
       "      <th>2007</th>\n",
       "      <td>-0.074631</td>\n",
       "      <td>0.371396</td>\n",
       "      <td>0.294346</td>\n",
       "      <td>0.097144</td>\n",
       "      <td>0.070767</td>\n",
       "      <td>0.009711</td>\n",
       "    </tr>\n",
       "    <tr>\n",
       "      <th>2008</th>\n",
       "      <td>-0.033629</td>\n",
       "      <td>-0.318562</td>\n",
       "      <td>3.905281</td>\n",
       "      <td>0.560449</td>\n",
       "      <td>0.217555</td>\n",
       "      <td>0.535980</td>\n",
       "    </tr>\n",
       "    <tr>\n",
       "      <th>2009</th>\n",
       "      <td>0.577619</td>\n",
       "      <td>1.109288</td>\n",
       "      <td>1.512005</td>\n",
       "      <td>0.730389</td>\n",
       "      <td>0.624446</td>\n",
       "      <td>0.793251</td>\n",
       "    </tr>\n",
       "    <tr>\n",
       "      <th>2010</th>\n",
       "      <td>0.134577</td>\n",
       "      <td>0.366418</td>\n",
       "      <td>0.699027</td>\n",
       "      <td>0.368324</td>\n",
       "      <td>0.410993</td>\n",
       "      <td>0.222419</td>\n",
       "    </tr>\n",
       "    <tr>\n",
       "      <th>2011</th>\n",
       "      <td>-0.138041</td>\n",
       "      <td>0.206941</td>\n",
       "      <td>-1.952239</td>\n",
       "      <td>0.198034</td>\n",
       "      <td>-0.019348</td>\n",
       "      <td>-0.151571</td>\n",
       "    </tr>\n",
       "    <tr>\n",
       "      <th>2012</th>\n",
       "      <td>0.232381</td>\n",
       "      <td>0.372372</td>\n",
       "      <td>0.627277</td>\n",
       "      <td>0.299801</td>\n",
       "      <td>0.130008</td>\n",
       "      <td>-0.004145</td>\n",
       "    </tr>\n",
       "    <tr>\n",
       "      <th>2013</th>\n",
       "      <td>0.586143</td>\n",
       "      <td>0.491736</td>\n",
       "      <td>1.027881</td>\n",
       "      <td>0.461188</td>\n",
       "      <td>0.533259</td>\n",
       "      <td>0.416992</td>\n",
       "    </tr>\n",
       "    <tr>\n",
       "      <th>2014</th>\n",
       "      <td>0.074332</td>\n",
       "      <td>0.535787</td>\n",
       "      <td>-0.272363</td>\n",
       "      <td>0.336989</td>\n",
       "      <td>0.154488</td>\n",
       "      <td>0.133510</td>\n",
       "    </tr>\n",
       "    <tr>\n",
       "      <th>2015</th>\n",
       "      <td>-0.210331</td>\n",
       "      <td>-0.127701</td>\n",
       "      <td>0.275275</td>\n",
       "      <td>-0.243472</td>\n",
       "      <td>-0.439158</td>\n",
       "      <td>-0.483538</td>\n",
       "    </tr>\n",
       "    <tr>\n",
       "      <th>2016</th>\n",
       "      <td>0.225343</td>\n",
       "      <td>0.259235</td>\n",
       "      <td>0.609126</td>\n",
       "      <td>0.124510</td>\n",
       "      <td>0.490124</td>\n",
       "      <td>0.272072</td>\n",
       "    </tr>\n",
       "    <tr>\n",
       "      <th>2017</th>\n",
       "      <td>0.476625</td>\n",
       "      <td>0.434159</td>\n",
       "      <td>0.749392</td>\n",
       "      <td>0.474423</td>\n",
       "      <td>0.660747</td>\n",
       "      <td>0.460722</td>\n",
       "    </tr>\n",
       "    <tr>\n",
       "      <th>2018</th>\n",
       "      <td>-0.302425</td>\n",
       "      <td>-0.135133</td>\n",
       "      <td>-0.275039</td>\n",
       "      <td>-0.010543</td>\n",
       "      <td>0.163881</td>\n",
       "      <td>0.069567</td>\n",
       "    </tr>\n",
       "    <tr>\n",
       "      <th>2019</th>\n",
       "      <td>0.537340</td>\n",
       "      <td>0.316087</td>\n",
       "      <td>1.142495</td>\n",
       "      <td>0.507172</td>\n",
       "      <td>0.610705</td>\n",
       "      <td>0.788836</td>\n",
       "    </tr>\n",
       "    <tr>\n",
       "      <th>2020</th>\n",
       "      <td>-1.046970</td>\n",
       "      <td>-0.263430</td>\n",
       "      <td>-7.588702</td>\n",
       "      <td>0.394782</td>\n",
       "      <td>2.435671</td>\n",
       "      <td>2.247997</td>\n",
       "    </tr>\n",
       "  </tbody>\n",
       "</table>\n",
       "</div>"
      ],
      "text/plain": [
       "      filter(1+2)  ma(28/13)  rsi(83/13)  ewma(26/13)  ma(10/13)_macd(5,35,5)  \\\n",
       "2000    -0.035994   0.323607    3.005298    -0.820172                0.592585   \n",
       "2001     0.398430   0.479691    0.716626     0.639977                0.543886   \n",
       "2002    -0.301696  -0.108452    0.148715    -0.058318                0.481178   \n",
       "2003     0.590143   0.992856    0.740439     1.046737                0.599916   \n",
       "2004     0.286830   0.274514    0.630377     0.062848                0.518141   \n",
       "2005     0.213718   0.277258    0.552292     0.147553                0.106581   \n",
       "2006     0.183338  -0.220479    1.048695    -0.237680               -0.013998   \n",
       "2007    -0.074631   0.371396    0.294346     0.097144                0.070767   \n",
       "2008    -0.033629  -0.318562    3.905281     0.560449                0.217555   \n",
       "2009     0.577619   1.109288    1.512005     0.730389                0.624446   \n",
       "2010     0.134577   0.366418    0.699027     0.368324                0.410993   \n",
       "2011    -0.138041   0.206941   -1.952239     0.198034               -0.019348   \n",
       "2012     0.232381   0.372372    0.627277     0.299801                0.130008   \n",
       "2013     0.586143   0.491736    1.027881     0.461188                0.533259   \n",
       "2014     0.074332   0.535787   -0.272363     0.336989                0.154488   \n",
       "2015    -0.210331  -0.127701    0.275275    -0.243472               -0.439158   \n",
       "2016     0.225343   0.259235    0.609126     0.124510                0.490124   \n",
       "2017     0.476625   0.434159    0.749392     0.474423                0.660747   \n",
       "2018    -0.302425  -0.135133   -0.275039    -0.010543                0.163881   \n",
       "2019     0.537340   0.316087    1.142495     0.507172                0.610705   \n",
       "2020    -1.046970  -0.263430   -7.588702     0.394782                2.435671   \n",
       "\n",
       "      ewma(12/13)_macd(5,35,5)  \n",
       "2000                 -0.310291  \n",
       "2001                  0.610342  \n",
       "2002                  0.414036  \n",
       "2003                  0.815065  \n",
       "2004                  0.045982  \n",
       "2005                 -0.047764  \n",
       "2006                  0.248761  \n",
       "2007                  0.009711  \n",
       "2008                  0.535980  \n",
       "2009                  0.793251  \n",
       "2010                  0.222419  \n",
       "2011                 -0.151571  \n",
       "2012                 -0.004145  \n",
       "2013                  0.416992  \n",
       "2014                  0.133510  \n",
       "2015                 -0.483538  \n",
       "2016                  0.272072  \n",
       "2017                  0.460722  \n",
       "2018                  0.069567  \n",
       "2019                  0.788836  \n",
       "2020                  2.247997  "
      ]
     },
     "execution_count": 6,
     "metadata": {},
     "output_type": "execute_result"
    }
   ],
   "source": [
    "buy_df"
   ]
  },
  {
   "cell_type": "markdown",
   "metadata": {},
   "source": [
    "Now that we have the data, we can perform the bootstrapping procedure on the different strategies. Note that by specifying the `random_state`, this makes the sampling reproducible.\n",
    "\n",
    "At the same time, we also specify the same `random_state` such that the bootstrap sampling for all strategies have the same resampling in terms of years. This allows us to easily use the bootstrap sample arrays for the hypothesis test framework with a simple arithmetic subtraction operation (alternate strategy minus benchmark strategy)."
   ]
  },
  {
   "cell_type": "code",
   "execution_count": 7,
   "metadata": {},
   "outputs": [],
   "source": [
    "# Bootstrap Sampling with reproducible random state = 1\n",
    "random_state = 1\n",
    "\n",
    "# Using the same random_state ensures that the BS sampling for the different strategies are the same in terms of years\n",
    "benchmark_buy = bootstrap_sampling(np.array(buy_df[\"filter(1+2)\"]), random_state = random_state)\n",
    "rsi_buy = bootstrap_sampling(np.array(buy_df[\"rsi(83/13)\"]), random_state = random_state)\n",
    "ma_buy = bootstrap_sampling(np.array(buy_df[\"ma(28/13)\"]), random_state = random_state)\n",
    "ewma_buy = bootstrap_sampling(np.array(buy_df[\"ewma(26/13)\"]), random_state = random_state)\n",
    "ma_macd_buy = bootstrap_sampling(np.array(buy_df[\"ma(10/13)_macd(5,35,5)\"]), random_state = random_state)\n",
    "ewma_macd_buy = bootstrap_sampling(np.array(buy_df[\"ewma(12/13)_macd(5,35,5)\"]), random_state = random_state)"
   ]
  },
  {
   "cell_type": "markdown",
   "metadata": {},
   "source": [
    "With the relevant bootstrap sample arrays for Buy Signals, we can use them a custom visualisation function `paired_histograms_buy` that consist of:\n",
    "- __Left Chart__: Distributions of bootstrap sampling means for both the benchmark and alternate strategy name\n",
    "- __Right Chart__: Distribution of hypothesis testing comparison between benchmark and alternate strategy\n",
    "- __p-value calculation__: This is the p-value for the hypothesis test using the bootstrap samples"
   ]
  },
  {
   "cell_type": "code",
   "execution_count": 8,
   "metadata": {},
   "outputs": [
    {
     "data": {
      "image/png": "[encoded data removed]",
      "text/plain": [
       "<Figure size 1440x360 with 2 Axes>"
      ]
     },
     "metadata": {
      "needs_background": "light"
     },
     "output_type": "display_data"
    },
    {
     "name": "stdout",
     "output_type": "stream",
     "text": [
      "The p-value for hypothesis test (Mean of Best MA - Mean of Benchmark Filter(1+2) > 0) is 0.006\n"
     ]
    }
   ],
   "source": [
    "paired_histograms_buy(ma_buy, \"MA\", benchmark_buy)"
   ]
  },
  {
   "cell_type": "code",
   "execution_count": 9,
   "metadata": {},
   "outputs": [
    {
     "data": {
      "image/png": "[encoded data removed]",
      "text/plain": [
       "<Figure size 1440x360 with 2 Axes>"
      ]
     },
     "metadata": {
      "needs_background": "light"
     },
     "output_type": "display_data"
    },
    {
     "name": "stdout",
     "output_type": "stream",
     "text": [
      "The p-value for hypothesis test (Mean of Best EWMA - Mean of Benchmark Filter(1+2) > 0) is 0.068\n"
     ]
    }
   ],
   "source": [
    "paired_histograms_buy(ewma_buy, \"EWMA\", benchmark_buy)"
   ]
  },
  {
   "cell_type": "code",
   "execution_count": 10,
   "metadata": {},
   "outputs": [
    {
     "data": {
      "image/png": "[encoded data removed]",
      "text/plain": [
       "<Figure size 1440x360 with 2 Axes>"
      ]
     },
     "metadata": {
      "needs_background": "light"
     },
     "output_type": "display_data"
    },
    {
     "name": "stdout",
     "output_type": "stream",
     "text": [
      "The p-value for hypothesis test (Mean of Best RSI - Mean of Benchmark Filter(1+2) > 0) is 0.256\n"
     ]
    }
   ],
   "source": [
    "paired_histograms_buy(rsi_buy, \"RSI\", benchmark_buy)"
   ]
  },
  {
   "cell_type": "code",
   "execution_count": 11,
   "metadata": {},
   "outputs": [
    {
     "data": {
      "image/png": "[encoded data removed]",
      "text/plain": [
       "<Figure size 1440x360 with 2 Axes>"
      ]
     },
     "metadata": {
      "needs_background": "light"
     },
     "output_type": "display_data"
    },
    {
     "name": "stdout",
     "output_type": "stream",
     "text": [
      "The p-value for hypothesis test (Mean of Best MA MACD - Mean of Benchmark Filter(1+2) > 0) is 0.001\n"
     ]
    }
   ],
   "source": [
    "paired_histograms_buy(ma_macd_buy, \"MA MACD\", benchmark_buy)"
   ]
  },
  {
   "cell_type": "code",
   "execution_count": 12,
   "metadata": {},
   "outputs": [
    {
     "data": {
      "image/png": "[encoded data removed]",
      "text/plain": [
       "<Figure size 1440x360 with 2 Axes>"
      ]
     },
     "metadata": {
      "needs_background": "light"
     },
     "output_type": "display_data"
    },
    {
     "name": "stdout",
     "output_type": "stream",
     "text": [
      "The p-value for hypothesis test (Mean of Best EWMA MACD - Mean of Benchmark Filter(1+2) > 0) is 0.036\n"
     ]
    }
   ],
   "source": [
    "paired_histograms_buy(ewma_macd_buy, \"EWMA MACD\", benchmark_buy)"
   ]
  },
  {
   "cell_type": "markdown",
   "metadata": {},
   "source": [
    "Having seen the visualisations of the bootstrapping for each strategy and individual hypothesis tests,  we can now perform the multiple hypothesis test with BH correction."
   ]
  },
  {
   "cell_type": "code",
   "execution_count": 13,
   "metadata": {},
   "outputs": [
    {
     "data": {
      "text/html": [
       "<div>\n",
       "<style scoped>\n",
       "    .dataframe tbody tr th:only-of-type {\n",
       "        vertical-align: middle;\n",
       "    }\n",
       "\n",
       "    .dataframe tbody tr th {\n",
       "        vertical-align: top;\n",
       "    }\n",
       "\n",
       "    .dataframe thead th {\n",
       "        text-align: right;\n",
       "    }\n",
       "</style>\n",
       "<table border=\"1\" class=\"dataframe\">\n",
       "  <thead>\n",
       "    <tr style=\"text-align: right;\">\n",
       "      <th></th>\n",
       "      <th>p-values</th>\n",
       "      <th>BH-adjusted p-values</th>\n",
       "    </tr>\n",
       "  </thead>\n",
       "  <tbody>\n",
       "    <tr>\n",
       "      <th>MA-MACD</th>\n",
       "      <td>0.0006</td>\n",
       "      <td>0.003000</td>\n",
       "    </tr>\n",
       "    <tr>\n",
       "      <th>MA</th>\n",
       "      <td>0.0057</td>\n",
       "      <td>0.014250</td>\n",
       "    </tr>\n",
       "    <tr>\n",
       "      <th>EWMA-MACD</th>\n",
       "      <td>0.0364</td>\n",
       "      <td>0.060667</td>\n",
       "    </tr>\n",
       "    <tr>\n",
       "      <th>EWMA</th>\n",
       "      <td>0.0680</td>\n",
       "      <td>0.085000</td>\n",
       "    </tr>\n",
       "    <tr>\n",
       "      <th>RSI</th>\n",
       "      <td>0.2556</td>\n",
       "      <td>0.255600</td>\n",
       "    </tr>\n",
       "  </tbody>\n",
       "</table>\n",
       "</div>"
      ],
      "text/plain": [
       "           p-values  BH-adjusted p-values\n",
       "MA-MACD      0.0006              0.003000\n",
       "MA           0.0057              0.014250\n",
       "EWMA-MACD    0.0364              0.060667\n",
       "EWMA         0.0680              0.085000\n",
       "RSI          0.2556              0.255600"
      ]
     },
     "execution_count": 13,
     "metadata": {},
     "output_type": "execute_result"
    }
   ],
   "source": [
    "# Compile in list\n",
    "strategies_bootstrap_arrays_list = [ma_buy, ewma_buy, rsi_buy, ma_macd_buy, ewma_macd_buy]\n",
    "\n",
    "p_values = np.empty(len(strategies_bootstrap_arrays_list))\n",
    "\n",
    "# Recalculating all the p values \n",
    "for i in range(len(strategies_bootstrap_arrays_list)):\n",
    "    p_values[i] = 1 - sum((strategies_bootstrap_arrays_list[i].mean(axis = 0) - benchmark_buy.mean(axis = 0)) >0)/len(strategies_bootstrap_arrays_list[i].mean(axis = 0))\n",
    "\n",
    "# Performing Benjamini-Hochberg correction for multiple hypothesis testing\n",
    "bh_adjusted_p_values = p_adjust_bh(p_values)\n",
    "\n",
    "# Compilation results\n",
    "buy_pval = pd.DataFrame([p_values, bh_adjusted_p_values]).T\n",
    "buy_pval.index = [\"MA\", \"EWMA\", \"RSI\", \"MA-MACD\", \"EWMA-MACD\"]\n",
    "buy_pval.columns = [\"p-values\", \"BH-adjusted p-values\"]\n",
    "\n",
    "buy_pval.sort_values(by = \"p-values\")"
   ]
  },
  {
   "cell_type": "markdown",
   "metadata": {},
   "source": [
    "Based on the hypothesis testing with BH correction, at 5% significance, we conclude that both MA-MACD and MA are statistically significant."
   ]
  },
  {
   "cell_type": "markdown",
   "metadata": {},
   "source": [
    "## Sell/Short Signals"
   ]
  },
  {
   "cell_type": "markdown",
   "metadata": {},
   "source": [
    "Let's continue with the bootstrapping and hypothesis testing of strategy comparisons for Sell/Short trade signals."
   ]
  },
  {
   "cell_type": "code",
   "execution_count": 14,
   "metadata": {},
   "outputs": [],
   "source": [
    "directory_path = \"./sell/\"\n",
    "\n",
    "files_list = [f for f in listdir(directory_path) if isfile(join(directory_path, f))]\n",
    "files_list.sort(key=len)\n",
    "for i in range(len(files_list)):\n",
    "    data_path = directory_path + files_list[i]\n",
    "\n",
    "    if i == 0:\n",
    "        sell_df = pd.read_csv(data_path, index_col = 0)\n",
    "\n",
    "    else:\n",
    "        intermediate_df = pd.read_csv(data_path, index_col = 0)\n",
    "\n",
    "        sell_df = pd.concat([sell_df, intermediate_df], axis = 1)"
   ]
  },
  {
   "cell_type": "markdown",
   "metadata": {},
   "source": [
    "For the Sell Only trade signals, we can take a look at the __best parameter combination for each strategy type__ based on the column names of the dataframe, including the benchmark strategy."
   ]
  },
  {
   "cell_type": "code",
   "execution_count": 15,
   "metadata": {},
   "outputs": [
    {
     "data": {
      "text/plain": [
       "['FILTER(1+2)',\n",
       " 'MA(13/13)',\n",
       " 'RSI(84/13)',\n",
       " 'EWMA(34/13)',\n",
       " 'MA(6/13)_MACD(8,17,9)',\n",
       " 'EWMA(15/13)_MACD(8,17,9)']"
      ]
     },
     "execution_count": 15,
     "metadata": {},
     "output_type": "execute_result"
    }
   ],
   "source": [
    "[str(i).upper() for i in sell_df.columns]"
   ]
  },
  {
   "cell_type": "markdown",
   "metadata": {},
   "source": [
    "After reading the data, we can take a look at the yearly breakdown of the annualised return metric for each strategy combination type."
   ]
  },
  {
   "cell_type": "code",
   "execution_count": 16,
   "metadata": {},
   "outputs": [
    {
     "data": {
      "text/html": [
       "<div>\n",
       "<style scoped>\n",
       "    .dataframe tbody tr th:only-of-type {\n",
       "        vertical-align: middle;\n",
       "    }\n",
       "\n",
       "    .dataframe tbody tr th {\n",
       "        vertical-align: top;\n",
       "    }\n",
       "\n",
       "    .dataframe thead th {\n",
       "        text-align: right;\n",
       "    }\n",
       "</style>\n",
       "<table border=\"1\" class=\"dataframe\">\n",
       "  <thead>\n",
       "    <tr style=\"text-align: right;\">\n",
       "      <th></th>\n",
       "      <th>filter(1+2)</th>\n",
       "      <th>ma(13/13)</th>\n",
       "      <th>rsi(84/13)</th>\n",
       "      <th>ewma(34/13)</th>\n",
       "      <th>ma(6/13)_macd(8,17,9)</th>\n",
       "      <th>ewma(15/13)_macd(8,17,9)</th>\n",
       "    </tr>\n",
       "  </thead>\n",
       "  <tbody>\n",
       "    <tr>\n",
       "      <th>2000</th>\n",
       "      <td>0.291262</td>\n",
       "      <td>0.265082</td>\n",
       "      <td>2.280243</td>\n",
       "      <td>0.097781</td>\n",
       "      <td>1.107262</td>\n",
       "      <td>0.285025</td>\n",
       "    </tr>\n",
       "    <tr>\n",
       "      <th>2001</th>\n",
       "      <td>-0.222402</td>\n",
       "      <td>-0.308229</td>\n",
       "      <td>5.494154</td>\n",
       "      <td>-0.271570</td>\n",
       "      <td>-0.234830</td>\n",
       "      <td>0.008732</td>\n",
       "    </tr>\n",
       "    <tr>\n",
       "      <th>2002</th>\n",
       "      <td>-0.043236</td>\n",
       "      <td>-0.009942</td>\n",
       "      <td>2.856320</td>\n",
       "      <td>0.090600</td>\n",
       "      <td>0.089886</td>\n",
       "      <td>0.074072</td>\n",
       "    </tr>\n",
       "    <tr>\n",
       "      <th>2003</th>\n",
       "      <td>-0.411814</td>\n",
       "      <td>-0.343647</td>\n",
       "      <td>-0.156393</td>\n",
       "      <td>-0.504800</td>\n",
       "      <td>-0.340053</td>\n",
       "      <td>-0.523031</td>\n",
       "    </tr>\n",
       "    <tr>\n",
       "      <th>2004</th>\n",
       "      <td>-0.318771</td>\n",
       "      <td>-0.512695</td>\n",
       "      <td>-0.517816</td>\n",
       "      <td>-0.506067</td>\n",
       "      <td>-0.996271</td>\n",
       "      <td>-0.764961</td>\n",
       "    </tr>\n",
       "    <tr>\n",
       "      <th>2005</th>\n",
       "      <td>-0.142430</td>\n",
       "      <td>-0.447507</td>\n",
       "      <td>0.751345</td>\n",
       "      <td>-0.078621</td>\n",
       "      <td>-0.030340</td>\n",
       "      <td>-0.091509</td>\n",
       "    </tr>\n",
       "    <tr>\n",
       "      <th>2006</th>\n",
       "      <td>0.000874</td>\n",
       "      <td>-0.035048</td>\n",
       "      <td>0.195919</td>\n",
       "      <td>-0.026592</td>\n",
       "      <td>-0.350512</td>\n",
       "      <td>-0.489385</td>\n",
       "    </tr>\n",
       "    <tr>\n",
       "      <th>2007</th>\n",
       "      <td>-0.086245</td>\n",
       "      <td>0.056559</td>\n",
       "      <td>0.880302</td>\n",
       "      <td>-0.079393</td>\n",
       "      <td>-0.171058</td>\n",
       "      <td>-0.179090</td>\n",
       "    </tr>\n",
       "    <tr>\n",
       "      <th>2008</th>\n",
       "      <td>0.808165</td>\n",
       "      <td>0.918654</td>\n",
       "      <td>2.091160</td>\n",
       "      <td>0.918370</td>\n",
       "      <td>0.819421</td>\n",
       "      <td>0.958710</td>\n",
       "    </tr>\n",
       "    <tr>\n",
       "      <th>2009</th>\n",
       "      <td>-0.451770</td>\n",
       "      <td>-0.151875</td>\n",
       "      <td>0.195416</td>\n",
       "      <td>-0.322300</td>\n",
       "      <td>-0.107070</td>\n",
       "      <td>-0.033088</td>\n",
       "    </tr>\n",
       "    <tr>\n",
       "      <th>2010</th>\n",
       "      <td>-0.341863</td>\n",
       "      <td>-0.475914</td>\n",
       "      <td>0.222377</td>\n",
       "      <td>-0.464224</td>\n",
       "      <td>-0.352578</td>\n",
       "      <td>-0.341283</td>\n",
       "    </tr>\n",
       "    <tr>\n",
       "      <th>2011</th>\n",
       "      <td>-0.013429</td>\n",
       "      <td>0.229978</td>\n",
       "      <td>1.373360</td>\n",
       "      <td>-0.188690</td>\n",
       "      <td>-0.242385</td>\n",
       "      <td>-0.493887</td>\n",
       "    </tr>\n",
       "    <tr>\n",
       "      <th>2012</th>\n",
       "      <td>-0.178332</td>\n",
       "      <td>-0.099118</td>\n",
       "      <td>-1.897280</td>\n",
       "      <td>0.001642</td>\n",
       "      <td>0.103402</td>\n",
       "      <td>0.138672</td>\n",
       "    </tr>\n",
       "    <tr>\n",
       "      <th>2013</th>\n",
       "      <td>-0.421496</td>\n",
       "      <td>-0.299306</td>\n",
       "      <td>-0.024598</td>\n",
       "      <td>-0.414054</td>\n",
       "      <td>-0.415749</td>\n",
       "      <td>-0.409095</td>\n",
       "    </tr>\n",
       "    <tr>\n",
       "      <th>2014</th>\n",
       "      <td>-0.006693</td>\n",
       "      <td>0.098545</td>\n",
       "      <td>0.044870</td>\n",
       "      <td>-0.128741</td>\n",
       "      <td>-0.212459</td>\n",
       "      <td>0.002956</td>\n",
       "    </tr>\n",
       "    <tr>\n",
       "      <th>2015</th>\n",
       "      <td>0.021451</td>\n",
       "      <td>-0.128883</td>\n",
       "      <td>1.292992</td>\n",
       "      <td>-0.139202</td>\n",
       "      <td>-0.135817</td>\n",
       "      <td>-0.189561</td>\n",
       "    </tr>\n",
       "    <tr>\n",
       "      <th>2016</th>\n",
       "      <td>-0.306198</td>\n",
       "      <td>0.112075</td>\n",
       "      <td>-0.279083</td>\n",
       "      <td>-0.124612</td>\n",
       "      <td>-0.519966</td>\n",
       "      <td>-0.548026</td>\n",
       "    </tr>\n",
       "    <tr>\n",
       "      <th>2017</th>\n",
       "      <td>-0.354017</td>\n",
       "      <td>-0.444952</td>\n",
       "      <td>0.019254</td>\n",
       "      <td>-0.387431</td>\n",
       "      <td>-0.498087</td>\n",
       "      <td>-0.358652</td>\n",
       "    </tr>\n",
       "    <tr>\n",
       "      <th>2018</th>\n",
       "      <td>0.254909</td>\n",
       "      <td>0.442946</td>\n",
       "      <td>0.554496</td>\n",
       "      <td>0.536232</td>\n",
       "      <td>0.390316</td>\n",
       "      <td>0.563929</td>\n",
       "    </tr>\n",
       "    <tr>\n",
       "      <th>2019</th>\n",
       "      <td>-0.190331</td>\n",
       "      <td>-0.162242</td>\n",
       "      <td>-0.430357</td>\n",
       "      <td>0.117007</td>\n",
       "      <td>0.402634</td>\n",
       "      <td>0.537247</td>\n",
       "    </tr>\n",
       "    <tr>\n",
       "      <th>2020</th>\n",
       "      <td>0.142353</td>\n",
       "      <td>1.233698</td>\n",
       "      <td>0.541807</td>\n",
       "      <td>0.575439</td>\n",
       "      <td>0.190001</td>\n",
       "      <td>0.471400</td>\n",
       "    </tr>\n",
       "  </tbody>\n",
       "</table>\n",
       "</div>"
      ],
      "text/plain": [
       "      filter(1+2)  ma(13/13)  rsi(84/13)  ewma(34/13)  ma(6/13)_macd(8,17,9)  \\\n",
       "2000     0.291262   0.265082    2.280243     0.097781               1.107262   \n",
       "2001    -0.222402  -0.308229    5.494154    -0.271570              -0.234830   \n",
       "2002    -0.043236  -0.009942    2.856320     0.090600               0.089886   \n",
       "2003    -0.411814  -0.343647   -0.156393    -0.504800              -0.340053   \n",
       "2004    -0.318771  -0.512695   -0.517816    -0.506067              -0.996271   \n",
       "2005    -0.142430  -0.447507    0.751345    -0.078621              -0.030340   \n",
       "2006     0.000874  -0.035048    0.195919    -0.026592              -0.350512   \n",
       "2007    -0.086245   0.056559    0.880302    -0.079393              -0.171058   \n",
       "2008     0.808165   0.918654    2.091160     0.918370               0.819421   \n",
       "2009    -0.451770  -0.151875    0.195416    -0.322300              -0.107070   \n",
       "2010    -0.341863  -0.475914    0.222377    -0.464224              -0.352578   \n",
       "2011    -0.013429   0.229978    1.373360    -0.188690              -0.242385   \n",
       "2012    -0.178332  -0.099118   -1.897280     0.001642               0.103402   \n",
       "2013    -0.421496  -0.299306   -0.024598    -0.414054              -0.415749   \n",
       "2014    -0.006693   0.098545    0.044870    -0.128741              -0.212459   \n",
       "2015     0.021451  -0.128883    1.292992    -0.139202              -0.135817   \n",
       "2016    -0.306198   0.112075   -0.279083    -0.124612              -0.519966   \n",
       "2017    -0.354017  -0.444952    0.019254    -0.387431              -0.498087   \n",
       "2018     0.254909   0.442946    0.554496     0.536232               0.390316   \n",
       "2019    -0.190331  -0.162242   -0.430357     0.117007               0.402634   \n",
       "2020     0.142353   1.233698    0.541807     0.575439               0.190001   \n",
       "\n",
       "      ewma(15/13)_macd(8,17,9)  \n",
       "2000                  0.285025  \n",
       "2001                  0.008732  \n",
       "2002                  0.074072  \n",
       "2003                 -0.523031  \n",
       "2004                 -0.764961  \n",
       "2005                 -0.091509  \n",
       "2006                 -0.489385  \n",
       "2007                 -0.179090  \n",
       "2008                  0.958710  \n",
       "2009                 -0.033088  \n",
       "2010                 -0.341283  \n",
       "2011                 -0.493887  \n",
       "2012                  0.138672  \n",
       "2013                 -0.409095  \n",
       "2014                  0.002956  \n",
       "2015                 -0.189561  \n",
       "2016                 -0.548026  \n",
       "2017                 -0.358652  \n",
       "2018                  0.563929  \n",
       "2019                  0.537247  \n",
       "2020                  0.471400  "
      ]
     },
     "execution_count": 16,
     "metadata": {},
     "output_type": "execute_result"
    }
   ],
   "source": [
    "sell_df"
   ]
  },
  {
   "cell_type": "markdown",
   "metadata": {},
   "source": [
    "Similarly, now that we have the data, we can perform the bootstrapping procedure on the different strategies."
   ]
  },
  {
   "cell_type": "code",
   "execution_count": 17,
   "metadata": {},
   "outputs": [],
   "source": [
    "# Bootstrap Sampling with reproducible random state = 1\n",
    "random_state = 1\n",
    "\n",
    "# Using the same random_state ensures that the BS sampling for the different strategies are the same in terms of years\n",
    "benchmark_sell = bootstrap_sampling(np.array(sell_df[\"filter(1+2)\"]), random_state = random_state)\n",
    "rsi_sell = bootstrap_sampling(np.array(sell_df[\"rsi(84/13)\"]), random_state = random_state)\n",
    "ma_sell = bootstrap_sampling(np.array(sell_df[\"ma(13/13)\"]), random_state = random_state)\n",
    "ewma_sell = bootstrap_sampling(np.array(sell_df[\"ewma(34/13)\"]), random_state = random_state)\n",
    "ma_macd_sell = bootstrap_sampling(np.array(sell_df[\"ma(6/13)_macd(8,17,9)\"]), random_state = random_state)\n",
    "ewma_macd_sell = bootstrap_sampling(np.array(sell_df[\"ewma(15/13)_macd(8,17,9)\"]), random_state = random_state)"
   ]
  },
  {
   "cell_type": "markdown",
   "metadata": {},
   "source": [
    "With the bootstrap samples obtained, we can visualise the bootstrap sampling means and the hypothesis test distribution as well."
   ]
  },
  {
   "cell_type": "code",
   "execution_count": 18,
   "metadata": {},
   "outputs": [
    {
     "data": {
      "image/png": "[encoded data removed]",
      "text/plain": [
       "<Figure size 1440x360 with 2 Axes>"
      ]
     },
     "metadata": {
      "needs_background": "light"
     },
     "output_type": "display_data"
    },
    {
     "name": "stdout",
     "output_type": "stream",
     "text": [
      "The p-value for hypothesis test (Mean of Best MA - Mean of Benchmark Filter(1+2) > 0) is 0.051\n"
     ]
    }
   ],
   "source": [
    "paired_histograms_sell(ma_sell, \"MA\", benchmark_sell)"
   ]
  },
  {
   "cell_type": "code",
   "execution_count": 19,
   "metadata": {},
   "outputs": [
    {
     "data": {
      "image/png": "[encoded data removed]",
      "text/plain": [
       "<Figure size 1440x360 with 2 Axes>"
      ]
     },
     "metadata": {
      "needs_background": "light"
     },
     "output_type": "display_data"
    },
    {
     "name": "stdout",
     "output_type": "stream",
     "text": [
      "The p-value for hypothesis test (Mean of Best EWMA - Mean of Benchmark Filter(1+2) > 0) is 0.199\n"
     ]
    }
   ],
   "source": [
    "paired_histograms_sell(ewma_sell, \"EWMA\", benchmark_sell)"
   ]
  },
  {
   "cell_type": "code",
   "execution_count": 20,
   "metadata": {},
   "outputs": [
    {
     "data": {
      "image/png": "[encoded data removed]",
      "text/plain": [
       "<Figure size 1440x360 with 2 Axes>"
      ]
     },
     "metadata": {
      "needs_background": "light"
     },
     "output_type": "display_data"
    },
    {
     "name": "stdout",
     "output_type": "stream",
     "text": [
      "The p-value for hypothesis test (Mean of Best RSI - Mean of Benchmark Filter(1+2) > 0) is 0.001\n"
     ]
    }
   ],
   "source": [
    "paired_histograms_sell(rsi_sell, \"RSI\", benchmark_sell)"
   ]
  },
  {
   "cell_type": "code",
   "execution_count": 21,
   "metadata": {},
   "outputs": [
    {
     "data": {
      "image/png": "[encoded data removed]",
      "text/plain": [
       "<Figure size 1440x360 with 2 Axes>"
      ]
     },
     "metadata": {
      "needs_background": "light"
     },
     "output_type": "display_data"
    },
    {
     "name": "stdout",
     "output_type": "stream",
     "text": [
      "The p-value for hypothesis test (Mean of Best MA MACD - Mean of Benchmark Filter(1+2) > 0) is 0.377\n"
     ]
    }
   ],
   "source": [
    "paired_histograms_sell(ma_macd_sell, \"MA MACD\", benchmark_sell)"
   ]
  },
  {
   "cell_type": "code",
   "execution_count": 22,
   "metadata": {},
   "outputs": [
    {
     "data": {
      "image/png": "[encoded data removed]",
      "text/plain": [
       "<Figure size 1440x360 with 2 Axes>"
      ]
     },
     "metadata": {
      "needs_background": "light"
     },
     "output_type": "display_data"
    },
    {
     "name": "stdout",
     "output_type": "stream",
     "text": [
      "The p-value for hypothesis test (Mean of Best EWMA MACD - Mean of Benchmark Filter(1+2) > 0) is 0.337\n"
     ]
    }
   ],
   "source": [
    "paired_histograms_sell(ewma_macd_sell, \"EWMA MACD\", benchmark_sell)"
   ]
  },
  {
   "cell_type": "markdown",
   "metadata": {},
   "source": [
    "Having seen the visualisations of the bootstrapping for each strategy and individual hypothesis tests,  we can now perform the multiple hypothesis test with BH correction."
   ]
  },
  {
   "cell_type": "code",
   "execution_count": 23,
   "metadata": {},
   "outputs": [
    {
     "data": {
      "text/html": [
       "<div>\n",
       "<style scoped>\n",
       "    .dataframe tbody tr th:only-of-type {\n",
       "        vertical-align: middle;\n",
       "    }\n",
       "\n",
       "    .dataframe tbody tr th {\n",
       "        vertical-align: top;\n",
       "    }\n",
       "\n",
       "    .dataframe thead th {\n",
       "        text-align: right;\n",
       "    }\n",
       "</style>\n",
       "<table border=\"1\" class=\"dataframe\">\n",
       "  <thead>\n",
       "    <tr style=\"text-align: right;\">\n",
       "      <th></th>\n",
       "      <th>p-values</th>\n",
       "      <th>BH-adjusted p-values</th>\n",
       "    </tr>\n",
       "  </thead>\n",
       "  <tbody>\n",
       "    <tr>\n",
       "      <th>RSI</th>\n",
       "      <td>0.0008</td>\n",
       "      <td>0.00400</td>\n",
       "    </tr>\n",
       "    <tr>\n",
       "      <th>MA</th>\n",
       "      <td>0.0507</td>\n",
       "      <td>0.12675</td>\n",
       "    </tr>\n",
       "    <tr>\n",
       "      <th>EWMA</th>\n",
       "      <td>0.1986</td>\n",
       "      <td>0.33100</td>\n",
       "    </tr>\n",
       "    <tr>\n",
       "      <th>EWMA-MACD</th>\n",
       "      <td>0.3373</td>\n",
       "      <td>0.37720</td>\n",
       "    </tr>\n",
       "    <tr>\n",
       "      <th>MA-MACD</th>\n",
       "      <td>0.3772</td>\n",
       "      <td>0.37720</td>\n",
       "    </tr>\n",
       "  </tbody>\n",
       "</table>\n",
       "</div>"
      ],
      "text/plain": [
       "           p-values  BH-adjusted p-values\n",
       "RSI          0.0008               0.00400\n",
       "MA           0.0507               0.12675\n",
       "EWMA         0.1986               0.33100\n",
       "EWMA-MACD    0.3373               0.37720\n",
       "MA-MACD      0.3772               0.37720"
      ]
     },
     "execution_count": 23,
     "metadata": {},
     "output_type": "execute_result"
    }
   ],
   "source": [
    "# Compile in list\n",
    "strategies_bootstrap_arrays_list = [ma_sell, ewma_sell, rsi_sell, ma_macd_sell, ewma_macd_sell]\n",
    "\n",
    "p_values = np.empty(len(strategies_bootstrap_arrays_list))\n",
    "\n",
    "# Recalculating all the p values \n",
    "for i in range(len(strategies_bootstrap_arrays_list)):\n",
    "    p_values[i] = 1 - sum((strategies_bootstrap_arrays_list[i].mean(axis = 0) - benchmark_sell.mean(axis = 0)) >0)/len(strategies_bootstrap_arrays_list[i].mean(axis = 0))\n",
    "\n",
    "# Performing Benjamini-Hochberg correction for multiple hypothesis testing\n",
    "bh_adjusted_p_values = p_adjust_bh(p_values)\n",
    "\n",
    "# Compilation results\n",
    "sell_pval = pd.DataFrame([p_values, bh_adjusted_p_values]).T\n",
    "sell_pval.index = [\"MA\", \"EWMA\", \"RSI\", \"MA-MACD\", \"EWMA-MACD\"]\n",
    "sell_pval.columns = [\"p-values\", \"BH-adjusted p-values\"]\n",
    "\n",
    "sell_pval.sort_values(by = \"p-values\")"
   ]
  },
  {
   "cell_type": "markdown",
   "metadata": {},
   "source": [
    "Based on the hypothesis testing with BH correction, at 5% significance, we conclude that only RSI is statistically significant."
   ]
  }
 ],
 "metadata": {
  "kernelspec": {
   "display_name": "Python 3",
   "language": "python",
   "name": "python3"
  },
  "language_info": {
   "codemirror_mode": {
    "name": "ipython",
    "version": 3
   },
   "file_extension": ".py",
   "mimetype": "text/x-python",
   "name": "python",
   "nbconvert_exporter": "python",
   "pygments_lexer": "ipython3",
   "version": "3.7.6"
  }
 },
 "nbformat": 4,
 "nbformat_minor": 4
}
