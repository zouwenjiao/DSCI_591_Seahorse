{
 "cells": [
  {
   "cell_type": "markdown",
   "metadata": {},
   "source": [
    "# Moving Average Strategy Evaluation"
   ]
  },
  {
   "cell_type": "markdown",
   "metadata": {},
   "source": [
    "In the Moving-Average (MA) strategy, we will explore adding a MA filter in addition to an existing oscillator polarity and absolute value filter. The MA is a technical momentum indicator which is used to identify market trends."
   ]
  },
  {
   "cell_type": "markdown",
   "metadata": {},
   "source": [
    "When we refer to the MA strategy, this is actually a three layered composite strategy as illustrated by the table below. By applying all filters jointly, we obtain refined filter trading signals."
   ]
  },
  {
   "cell_type": "markdown",
   "metadata": {},
   "source": [
    "|MA Composite Strategy|\n",
    "|-|\n",
    "|Filter 1 (Trades with correct oscillator polarity)|\n",
    "|Filter 2 (Trades with oscillator value between -7 to 7)|\n",
    "|MA|\n"
   ]
  },
  {
   "cell_type": "markdown",
   "metadata": {},
   "source": [
    "Based on the calculation across the different MA strategy parameters, we can find the best strategy as defined by the average annualised metric performance across 21 years. Thereafter we can obtain relevant statistics about the strategy's performance such as:\n",
    "- Average annualised return metric\n",
    "- Standard deviation of the annualised return metric across 21 years\n",
    "- Average annualised return per unit of standard deviation risk (reward-to-risk)\n",
    "- Filter trade signal counts\n",
    "- Average portfolio cumulative return (based on equal stock weightage)\n",
    "- Average holding time in days per trade signal"
   ]
  },
  {
   "cell_type": "markdown",
   "metadata": {},
   "source": [
    "To find the best MA window, we decided to search for an ideal parameter ranging from 1 day up to 20 days. We will begin by using a step size of 1 day and thereafter lower the step size to narrow our search."
   ]
  },
  {
   "cell_type": "code",
   "execution_count": 1,
   "metadata": {},
   "outputs": [],
   "source": [
    "import pandas as pd\n",
    "import matplotlib.pyplot as plt\n",
    "import numpy as np\n",
    "from datetime import datetime\n",
    "from os import listdir\n",
    "from os.path import isfile, join\n",
    "import altair as alt\n",
    "from tqdm import tqdm\n",
    "pd.options.mode.chained_assignment = None\n",
    "from functions import *"
   ]
  },
  {
   "cell_type": "markdown",
   "metadata": {},
   "source": [
    "## Buy Only"
   ]
  },
  {
   "cell_type": "code",
   "execution_count": 2,
   "metadata": {},
   "outputs": [],
   "source": [
    "ma_list = np.arange(1,20)\n",
    "Buy_result= backtest_ma(ma_list, 'buy_only')"
   ]
  },
  {
   "cell_type": "code",
   "execution_count": 3,
   "metadata": {},
   "outputs": [],
   "source": [
    "df = pd.DataFrame(Buy_result)"
   ]
  },
  {
   "cell_type": "code",
   "execution_count": 5,
   "metadata": {},
   "outputs": [
    {
     "data": {
      "text/plain": [
       "Text(0.5, 1.0, 'Annualized Return Vs. MA Window Size (Buy Only)')"
      ]
     },
     "execution_count": 5,
     "metadata": {},
     "output_type": "execute_result"
    },
    {
     "data": {
      "image/png": "[encoded data removed]",
      "text/plain": [
       "<Figure size 432x288 with 1 Axes>"
      ]
     },
     "metadata": {
      "needs_background": "light"
     },
     "output_type": "display_data"
    }
   ],
   "source": [
    "plt.scatter(y = df.T.mean(), x = np.arange(1,20))\n",
    "plt.xlabel('MA days')\n",
    "plt.ylabel('Annualized return')\n",
    "plt.title('Annualized Return Vs. MA Window Size (Buy Only)')"
   ]
  },
  {
   "cell_type": "markdown",
   "metadata": {},
   "source": [
    "As we can see from the plot above, the peak is located around 2 days. Therefore, we will narrow down our search from 1 to 3 days with step size of 1/13 day."
   ]
  },
  {
   "cell_type": "code",
   "execution_count": 5,
   "metadata": {},
   "outputs": [],
   "source": [
    "ma_list_fine = np.arange(13, 39)/13\n",
    "Buy_result_fine = backtest_ma(ma_list_fine, 'buy_only')"
   ]
  },
  {
   "cell_type": "code",
   "execution_count": 6,
   "metadata": {},
   "outputs": [
    {
     "data": {
      "text/plain": [
       "2.1538461538461537"
      ]
     },
     "execution_count": 6,
     "metadata": {},
     "output_type": "execute_result"
    }
   ],
   "source": [
    "(np.arange(13, 39)/13)[np.argmax(np.array([pd.DataFrame(Buy_result_fine).T.mean()]))]"
   ]
  },
  {
   "cell_type": "code",
   "execution_count": 7,
   "metadata": {},
   "outputs": [
    {
     "name": "stdout",
     "output_type": "stream",
     "text": [
      "28.0\n"
     ]
    },
    {
     "data": {
      "text/plain": [
       "0.26845657754560803"
      ]
     },
     "execution_count": 7,
     "metadata": {},
     "output_type": "execute_result"
    }
   ],
   "source": [
    "print(2.1538461538461537 *13)\n",
    "np.max(np.array([pd.DataFrame(Buy_result_fine).T.mean()]))"
   ]
  },
  {
   "cell_type": "markdown",
   "metadata": {},
   "source": [
    "Window size of 2.153 (28/13) days gives us highest annualized return 26.846%."
   ]
  },
  {
   "cell_type": "code",
   "execution_count": 8,
   "metadata": {},
   "outputs": [],
   "source": [
    "ma_result_buy = get_stats('buy_only', 2.1538461538461537)"
   ]
  },
  {
   "cell_type": "code",
   "execution_count": 9,
   "metadata": {},
   "outputs": [
    {
     "data": {
      "text/html": [
       "<div>\n",
       "<style scoped>\n",
       "    .dataframe tbody tr th:only-of-type {\n",
       "        vertical-align: middle;\n",
       "    }\n",
       "\n",
       "    .dataframe tbody tr th {\n",
       "        vertical-align: top;\n",
       "    }\n",
       "\n",
       "    .dataframe thead th {\n",
       "        text-align: right;\n",
       "    }\n",
       "</style>\n",
       "<table border=\"1\" class=\"dataframe\">\n",
       "  <thead>\n",
       "    <tr style=\"text-align: right;\">\n",
       "      <th></th>\n",
       "      <th>filter_counts</th>\n",
       "      <th>avg_port_cum_return</th>\n",
       "      <th>avg_holding_time_per_signal</th>\n",
       "      <th>avg_metric</th>\n",
       "      <th>std_metric</th>\n",
       "      <th>avg_metric/std_metric</th>\n",
       "    </tr>\n",
       "  </thead>\n",
       "  <tbody>\n",
       "    <tr>\n",
       "      <th>MA(28/13)</th>\n",
       "      <td>41477</td>\n",
       "      <td>2.363509</td>\n",
       "      <td>0.852331</td>\n",
       "      <td>0.268457</td>\n",
       "      <td>0.373756</td>\n",
       "      <td>0.718267</td>\n",
       "    </tr>\n",
       "  </tbody>\n",
       "</table>\n",
       "</div>"
      ],
      "text/plain": [
       "           filter_counts  avg_port_cum_return  avg_holding_time_per_signal  \\\n",
       "MA(28/13)          41477             2.363509                     0.852331   \n",
       "\n",
       "           avg_metric  std_metric  avg_metric/std_metric  \n",
       "MA(28/13)    0.268457    0.373756               0.718267  "
      ]
     },
     "execution_count": 9,
     "metadata": {},
     "output_type": "execute_result"
    }
   ],
   "source": [
    "ma_result_buy['index']= ['MA(28/13)']\n",
    "ma_result_buy=ma_result_buy.set_index('index')\n",
    "ma_result_buy.index.name = None\n",
    "ma_result_buy"
   ]
  },
  {
   "cell_type": "code",
   "execution_count": 20,
   "metadata": {},
   "outputs": [],
   "source": [
    "ma_result_buy.to_csv('../Output_strategy_statistics/result_ma_buy.csv')"
   ]
  },
  {
   "cell_type": "markdown",
   "metadata": {},
   "source": [
    "## Sell Only"
   ]
  },
  {
   "cell_type": "markdown",
   "metadata": {},
   "source": [
    "The following code below is repeated for the sell strategy."
   ]
  },
  {
   "cell_type": "code",
   "execution_count": 7,
   "metadata": {},
   "outputs": [
    {
     "data": {
      "text/plain": [
       "Text(0.5, 1.0, 'Annualized Return Vs. MA Window Size (Sell Only)')"
      ]
     },
     "execution_count": 7,
     "metadata": {},
     "output_type": "execute_result"
    },
    {
     "data": {
      "image/png": "[encoded data removed]",
      "text/plain": [
       "<Figure size 432x288 with 1 Axes>"
      ]
     },
     "metadata": {
      "needs_background": "light"
     },
     "output_type": "display_data"
    }
   ],
   "source": [
    "ma_list = np.arange(1,20)\n",
    "sell_result= backtest_ma(ma_list, 'sell_only')\n",
    "df = pd.DataFrame(sell_result)\n",
    "plt.scatter(y = df.T.mean(), x = np.arange(1,20))\n",
    "plt.xlabel('MA days')\n",
    "plt.ylabel('Annualized return')\n",
    "plt.title('Annualized Return Vs. MA Window Size (Sell Only)')"
   ]
  },
  {
   "cell_type": "markdown",
   "metadata": {},
   "source": [
    "As we can see from the plot above, the peak is located around 1 day. Similarly, we will narrow down in this location and search from 0 to 2 days with step size of 1/13 day."
   ]
  },
  {
   "cell_type": "code",
   "execution_count": 8,
   "metadata": {},
   "outputs": [],
   "source": [
    "ma_list_fine = np.arange(0, 26)/13\n",
    "sell_result_fine = backtest_ma(ma_list_fine, 'sell_only')"
   ]
  },
  {
   "cell_type": "code",
   "execution_count": 9,
   "metadata": {},
   "outputs": [
    {
     "name": "stdout",
     "output_type": "stream",
     "text": [
      "1.0\n",
      "13\n",
      "-0.002943840155498941\n"
     ]
    }
   ],
   "source": [
    "print(ma_list_fine[np.argmax(np.array(pd.DataFrame(sell_result_fine).T.mean().dropna()))+1])\n",
    "print(1 *13)\n",
    "print(np.max(np.array([pd.DataFrame(sell_result_fine).T.mean().dropna()])))"
   ]
  },
  {
   "cell_type": "code",
   "execution_count": 11,
   "metadata": {},
   "outputs": [
    {
     "data": {
      "text/plain": [
       "Text(0.5, 1.0, 'Annualized Return Vs. MA Window Size (Sell Only)')"
      ]
     },
     "execution_count": 11,
     "metadata": {},
     "output_type": "execute_result"
    },
    {
     "data": {
      "image/png": "[encoded data removed]",
      "text/plain": [
       "<Figure size 432x288 with 1 Axes>"
      ]
     },
     "metadata": {
      "needs_background": "light"
     },
     "output_type": "display_data"
    }
   ],
   "source": [
    "plt.plot(pd.DataFrame(sell_result_fine).T.mean().dropna())\n",
    "plt.xlabel('MA days')\n",
    "plt.ylabel('Annualized return')\n",
    "plt.title('Annualized Return Vs. MA Window Size (Sell Only)')"
   ]
  },
  {
   "cell_type": "markdown",
   "metadata": {},
   "source": [
    "We can see that the MA filter did not do a good job in the short strategy as all annualized returns are below zero. Nonetheless, a window size of 1 (13/13) day provides us with the highest annualized return of -0.29%."
   ]
  },
  {
   "cell_type": "code",
   "execution_count": 15,
   "metadata": {},
   "outputs": [],
   "source": [
    "ma_result_sell = get_stats('sell_only', 1)"
   ]
  },
  {
   "cell_type": "code",
   "execution_count": 16,
   "metadata": {},
   "outputs": [
    {
     "data": {
      "text/html": [
       "<div>\n",
       "<style scoped>\n",
       "    .dataframe tbody tr th:only-of-type {\n",
       "        vertical-align: middle;\n",
       "    }\n",
       "\n",
       "    .dataframe tbody tr th {\n",
       "        vertical-align: top;\n",
       "    }\n",
       "\n",
       "    .dataframe thead th {\n",
       "        text-align: right;\n",
       "    }\n",
       "</style>\n",
       "<table border=\"1\" class=\"dataframe\">\n",
       "  <thead>\n",
       "    <tr style=\"text-align: right;\">\n",
       "      <th></th>\n",
       "      <th>filter_counts</th>\n",
       "      <th>avg_port_cum_return</th>\n",
       "      <th>avg_holding_time_per_signal</th>\n",
       "      <th>avg_metric</th>\n",
       "      <th>std_metric</th>\n",
       "      <th>avg_metric/std_metric</th>\n",
       "    </tr>\n",
       "  </thead>\n",
       "  <tbody>\n",
       "    <tr>\n",
       "      <th>MA(13/13)</th>\n",
       "      <td>34270</td>\n",
       "      <td>1.108416</td>\n",
       "      <td>0.77034</td>\n",
       "      <td>-0.002944</td>\n",
       "      <td>0.445983</td>\n",
       "      <td>-0.006601</td>\n",
       "    </tr>\n",
       "  </tbody>\n",
       "</table>\n",
       "</div>"
      ],
      "text/plain": [
       "           filter_counts  avg_port_cum_return  avg_holding_time_per_signal  \\\n",
       "MA(13/13)          34270             1.108416                      0.77034   \n",
       "\n",
       "           avg_metric  std_metric  avg_metric/std_metric  \n",
       "MA(13/13)   -0.002944    0.445983              -0.006601  "
      ]
     },
     "execution_count": 16,
     "metadata": {},
     "output_type": "execute_result"
    }
   ],
   "source": [
    "ma_result_sell['index']= ['MA(13/13)']\n",
    "ma_result_sell=ma_result_sell.set_index('index')\n",
    "ma_result_sell.index.name = None\n",
    "ma_result_sell"
   ]
  },
  {
   "cell_type": "code",
   "execution_count": 17,
   "metadata": {},
   "outputs": [],
   "source": [
    "ma_result_sell.to_csv('../Output_strategy_statistics/result_ma_sell.csv')"
   ]
  },
  {
   "cell_type": "markdown",
   "metadata": {},
   "source": [
    "### Save Top Results Data For Bootstrapping\n",
    "\n",
    "The following `get_annual` function is used to compile relevant data of the top performing buy and sell strategies and arrange them in a format which will be used for bootstrapping."
   ]
  },
  {
   "cell_type": "code",
   "execution_count": 19,
   "metadata": {},
   "outputs": [],
   "source": [
    "get_annual('buy_only', 28/13).to_csv('../../bootstrap/buy/top_ma_buy_annual.csv')\n",
    "get_annual('sell_only', 13/13).to_csv('../../bootstrap/sell/top_ma_sell_annual.csv')"
   ]
  }
 ],
 "metadata": {
  "kernelspec": {
   "display_name": "Python 3",
   "language": "python",
   "name": "python3"
  },
  "language_info": {
   "codemirror_mode": {
    "name": "ipython",
    "version": 3
   },
   "file_extension": ".py",
   "mimetype": "text/x-python",
   "name": "python",
   "nbconvert_exporter": "python",
   "pygments_lexer": "ipython3",
   "version": "3.7.4"
  }
 },
 "nbformat": 4,
 "nbformat_minor": 4
}
