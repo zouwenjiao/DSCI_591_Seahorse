{
 "cells": [
  {
   "cell_type": "markdown",
   "metadata": {
    "slideshow": {
     "slide_type": "slide"
    }
   },
   "source": [
    "# Seahorse Momentum Indicator\n",
    "\n",
    "----\n",
    "<center>\n",
    "<img src=\"img/head.png\" width=\"400\" height = \"100\" />\n",
    "</center>\n",
    "\n",
    "----\n",
    "\n",
    "\n",
    "<div align=\"right\">\n",
    "    Kenneth Foo, Huayue Lu, Sam Chepal & Wenjiao Zou\n",
    "</div>\n",
    "<div align=\"right\">\n",
    "    May 8th, 2020\n",
    "</div>"
   ]
  },
  {
   "cell_type": "markdown",
   "metadata": {
    "slideshow": {
     "slide_type": "slide"
    }
   },
   "source": [
    "### Background\n",
    "### Oscillator: an indicator for trading strategies(buy or sell)\n",
    "<font color=\"#e6c407\">**yellow line: the time series of the oscillator**</font>\n",
    "\n",
    "-----\n",
    "<center> \n",
    "<img src=\"img/oscillator.png\" alt=\"drawing\" width=\"800\"/>\n",
    "</center>\n",
    "\n",
    "----"
   ]
  },
  {
   "cell_type": "markdown",
   "metadata": {
    "slideshow": {
     "slide_type": "subslide"
    }
   },
   "source": [
    "### Baseline strategy: always in market\n",
    " - <font color=\"#d64e18\">red vertical line: **sell** signal</font>\n",
    " - <font color=\"#2bb9cf\">blue vertical line: **buy** signal</font>\n",
    " ----\n",
    "<center>\n",
    "<img src=\"img/oscillator.png\" alt=\"drawing\" width=\"800\"/>\n",
    "</center>"
   ]
  },
  {
   "cell_type": "markdown",
   "metadata": {
    "slideshow": {
     "slide_type": "subslide"
    }
   },
   "source": [
    "### Strategy with filter 1(\"filter\" means extra condition)\n",
    "\n",
    "Aside from the **sell** and **buy** signal, furthermore:\n",
    "- <font color=\"#d64e18\">Only **sell** when oscillator's value is **above 0**.</font>\n",
    "- <font color=\"#2bb9cf\">Only **buy** when oscillator's value is **below 0**.</font>\n",
    "----\n",
    "<center>\n",
    "<img src=\"img/oscillator.png\" alt=\"drawing\" width=\"800\"/>\n",
    "</center>\n",
    "\n",
    "----\n"
   ]
  },
  {
   "cell_type": "markdown",
   "metadata": {
    "slideshow": {
     "slide_type": "subslide"
    }
   },
   "source": [
    "### Strategy with filter 2\n",
    "**The upper part represents the time series of the stock price.**\n",
    "\n",
    "The <font color=\"#ad0bb5\">purple</font>, <font color=\"#2bb9cf\">blue</font> and <font color=\"#e6c407\">yellow</font> lines represent moving average in different time windows.\n",
    "\n",
    "Aside from the **sell** and **buy** signal, furthermore:\n",
    "- <font color=\"#d64e18\">Only **sell** when **MA is dropping**.</font>\n",
    "- <font color=\"#2bb9cf\">Only **buy** when **MA is rising**.</font>\n",
    "----\n",
    "<center>\n",
    "<img src=\"img/os2.png\" width = \"300\" height=\"100\"/>\n",
    "</center>\n"
   ]
  }
 ],
 "metadata": {
  "celltoolbar": "Slideshow",
  "kernelspec": {
   "display_name": "Python 3",
   "language": "python",
   "name": "python3"
  },
  "language_info": {
   "codemirror_mode": {
    "name": "ipython",
    "version": 3
   },
   "file_extension": ".py",
   "mimetype": "text/x-python",
   "name": "python",
   "nbconvert_exporter": "python",
   "pygments_lexer": "ipython3",
   "version": "3.7.6"
  }
 },
 "nbformat": 4,
 "nbformat_minor": 2
}
