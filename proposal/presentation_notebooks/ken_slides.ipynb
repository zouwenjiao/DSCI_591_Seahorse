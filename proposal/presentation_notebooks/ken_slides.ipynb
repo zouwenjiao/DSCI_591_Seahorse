{
 "cells": [
  {
   "cell_type": "markdown",
   "metadata": {
    "slideshow": {
     "slide_type": "slide"
    }
   },
   "source": [
    "# Research Question I\n",
    "\n",
    "<center>\n",
    "<img src=\"img/filter_signals.png\" alt=\"drawing\" width=\"800\"/>\n",
    "</center>\n",
    "\n",
    "\n"
   ]
  },
  {
   "cell_type": "markdown",
   "metadata": {
    "slideshow": {
     "slide_type": "subslide"
    }
   },
   "source": [
    "# Research Question I\n",
    "\n",
    "__Optimisation Objective:__ What is the __appropriate momentum indicator__ (e.g. moving average window) that can be applied to the “Stock Price” such that the filtered trade signals result in either:\n",
    "- The best portfolio return (in percentage) or\n",
    "- The highest precision (high fraction of filtered trades signals are truly profitable)\n",
    "\n",
    "<center>\n",
    "<img src=\"img/confusion_matrix.jpg\" alt=\"drawing\" width=\"400\"/>\n",
    "</center>\n",
    "\n",
    "[Credit](https://en.wikipedia.org/wiki/Sensitivity_and_specificity)"
   ]
  },
  {
   "cell_type": "markdown",
   "metadata": {
    "slideshow": {
     "slide_type": "slide"
    }
   },
   "source": [
    "# Research Question II\n",
    "\n",
    "__Predictive objective:__ Create a predictive model with feature engineering of stock attributes to predict if the primary oscillator trade signals are profitable or not. \n"
   ]
  },
  {
   "cell_type": "markdown",
   "metadata": {
    "slideshow": {
     "slide_type": "slide"
    }
   },
   "source": [
    "# Dataset\n",
    "\n",
    "50 individual stock datasets for past 20 years (2000 to 2020)"
   ]
  },
  {
   "cell_type": "code",
   "execution_count": 3,
   "metadata": {
    "slideshow": {
     "slide_type": "fragment"
    }
   },
   "outputs": [
    {
     "data": {
      "text/html": [
       "<div>\n",
       "<style scoped>\n",
       "    .dataframe tbody tr th:only-of-type {\n",
       "        vertical-align: middle;\n",
       "    }\n",
       "\n",
       "    .dataframe tbody tr th {\n",
       "        vertical-align: top;\n",
       "    }\n",
       "\n",
       "    .dataframe thead th {\n",
       "        text-align: right;\n",
       "    }\n",
       "</style>\n",
       "<table border=\"1\" class=\"dataframe\">\n",
       "  <thead>\n",
       "    <tr style=\"text-align: right;\">\n",
       "      <th></th>\n",
       "      <th>date</th>\n",
       "      <th>stock_price</th>\n",
       "      <th>oscillator</th>\n",
       "    </tr>\n",
       "  </thead>\n",
       "  <tbody>\n",
       "    <tr>\n",
       "      <th>0</th>\n",
       "      <td>2000-04-07 10:00:00</td>\n",
       "      <td>11.64</td>\n",
       "      <td>0.00</td>\n",
       "    </tr>\n",
       "    <tr>\n",
       "      <th>1</th>\n",
       "      <td>2000-04-07 10:30:00</td>\n",
       "      <td>11.66</td>\n",
       "      <td>-0.01</td>\n",
       "    </tr>\n",
       "    <tr>\n",
       "      <th>2</th>\n",
       "      <td>2000-04-07 11:00:00</td>\n",
       "      <td>11.67</td>\n",
       "      <td>-0.01</td>\n",
       "    </tr>\n",
       "    <tr>\n",
       "      <th>3</th>\n",
       "      <td>2000-04-07 11:30:00</td>\n",
       "      <td>11.66</td>\n",
       "      <td>-0.03</td>\n",
       "    </tr>\n",
       "    <tr>\n",
       "      <th>4</th>\n",
       "      <td>2000-04-07 12:00:00</td>\n",
       "      <td>11.56</td>\n",
       "      <td>-0.13</td>\n",
       "    </tr>\n",
       "  </tbody>\n",
       "</table>\n",
       "</div>"
      ],
      "text/plain": [
       "                 date  stock_price  oscillator\n",
       "0 2000-04-07 10:00:00        11.64        0.00\n",
       "1 2000-04-07 10:30:00        11.66       -0.01\n",
       "2 2000-04-07 11:00:00        11.67       -0.01\n",
       "3 2000-04-07 11:30:00        11.66       -0.03\n",
       "4 2000-04-07 12:00:00        11.56       -0.13"
      ]
     },
     "execution_count": 3,
     "metadata": {},
     "output_type": "execute_result"
    }
   ],
   "source": [
    "import pandas as pd\n",
    "from datetime import datetime\n",
    "\n",
    "df = pd.read_csv(\"../../data/adsk20years.txt\", delimiter=r\"\\s+\",header=None)\n",
    "df.columns = [\"date\", \"stock_price\", \"oscillator\"]\n",
    "\n",
    "df[\"date\"] = df[\"date\"].apply(lambda x: datetime.strptime(str(x), \"1%y%m%d.00%H%M.00\"))\n",
    "\n",
    "df.head(5)"
   ]
  },
  {
   "cell_type": "markdown",
   "metadata": {
    "slideshow": {
     "slide_type": "slide"
    }
   },
   "source": [
    "# Project Success Vision\n",
    "\n",
    "__Optimisation Goal:__  \n",
    "Recommend the __best momentum indicator rule__ based on the two metrics:\n",
    "- Portfolio % return\n",
    "- Precision rate of trades\n"
   ]
  },
  {
   "cell_type": "markdown",
   "metadata": {
    "slideshow": {
     "slide_type": "fragment"
    }
   },
   "source": [
    "__Predictive Goal:__  \n",
    "For each observed primary trade signal, provide prediction on its profitability with a confidence level.\n"
   ]
  }
 ],
 "metadata": {
  "celltoolbar": "Slideshow",
  "kernelspec": {
   "display_name": "Python 3",
   "language": "python",
   "name": "python3"
  },
  "language_info": {
   "codemirror_mode": {
    "name": "ipython",
    "version": 3
   },
   "file_extension": ".py",
   "mimetype": "text/x-python",
   "name": "python",
   "nbconvert_exporter": "python",
   "pygments_lexer": "ipython3",
   "version": "3.7.6"
  },
  "rise": {
   "scroll": true,
   "start_slideshow_at": "beginning",
   "theme": "serif"
  }
 },
 "nbformat": 4,
 "nbformat_minor": 4
}
