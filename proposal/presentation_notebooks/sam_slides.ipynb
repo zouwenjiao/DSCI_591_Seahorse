{
 "cells": [
  {
   "cell_type": "markdown",
   "metadata": {
    "slideshow": {
     "slide_type": "slide"
    }
   },
   "source": [
    "# Plan - Optimizing Signal For Better Trades"
   ]
  },
  {
   "cell_type": "markdown",
   "metadata": {
    "slideshow": {
     "slide_type": "slide"
    }
   },
   "source": [
    "- We can filter out false signals produced by the oscillator by adding another criteria to ensure we do not trade against the direction of the trend\n",
    "\n",
    "\n",
    "- **“The trend is your friend”** is a term commonly used in trading where investors will not buy or sell an asset unless the trend of the asset is moving in their direction\n",
    "\n",
    "\n",
    "- The momentum/trend filter as shown below can help weed out low quality trades and provide Seahorse with higher quality trades\n",
    "\n",
    "![photo](./img/momentum_chart.png)\n",
    "\n",
    "*** Note - we can get rid of this slide if it doesn't add value here."
   ]
  },
  {
   "cell_type": "markdown",
   "metadata": {
    "slideshow": {
     "slide_type": "slide"
    }
   },
   "source": [
    "## 1. Baseline Strategy - Purely Follow The Oscillator Indicator\n",
    "\n",
    "- Buy the stock when the oscillator forms a minimum under the zero line and sell when the signal peaks at the top\n",
    "\n",
    "- This baseline strategy has no filter to weed out false positive trades (ie: trades that the model predicted as being profitable but fail to make money)."
   ]
  },
  {
   "cell_type": "markdown",
   "metadata": {
    "slideshow": {
     "slide_type": "subslide"
    }
   },
   "source": [
    "![](./img/peak_trough.jpg)"
   ]
  },
  {
   "cell_type": "markdown",
   "metadata": {},
   "source": [
    "Source: https://mylungsmylife.org/topics/group-1/pacing-and-overcoming-fatigue/peak-and-trough-boom-and-bust/"
   ]
  },
  {
   "cell_type": "markdown",
   "metadata": {},
   "source": [
    "## 2. Adding Momentum Filter to Baseline Strategy\n",
    "\n",
    "- Use SMI's oscillator signals but with an added momentum indicator. This will help improve the quality of trade signals and ensure a trader always goes with the direction of the market.\n",
    "\n",
    "\n",
    "- As shown below, the baseline strategy produced a buy signal near $4000, however, we only enter the trade once the short-term moving average signal also starts to go in favor of our trade. "
   ]
  },
  {
   "cell_type": "markdown",
   "metadata": {},
   "source": [
    "![](momentum_filter_example.png)"
   ]
  },
  {
   "cell_type": "markdown",
   "metadata": {},
   "source": [
    "## 3. Optimize For The Ideal Momentum Indicator\n",
    "\n",
    "- Optimize for the ideal moving average time period which will generalize well to the universe of stocks in our dataset\n",
    "\n",
    "\n",
    "- Consider other momentum indicators such as the relative strength index (RSI) or Moving Average  Convergence/Divergence (MACD) metric"
   ]
  }
 ],
 "metadata": {
  "celltoolbar": "Slideshow",
  "kernelspec": {
   "display_name": "Python 3",
   "language": "python",
   "name": "python3"
  },
  "language_info": {
   "codemirror_mode": {
    "name": "ipython",
    "version": 3
   },
   "file_extension": ".py",
   "mimetype": "text/x-python",
   "name": "python",
   "nbconvert_exporter": "python",
   "pygments_lexer": "ipython3",
   "version": "3.7.6"
  }
 },
 "nbformat": 4,
 "nbformat_minor": 4
}
