{
 "cells": [
  {
   "cell_type": "markdown",
   "metadata": {
    "slideshow": {
     "slide_type": "slide"
    }
   },
   "source": [
    "# Conclusion\n",
    "\n",
    "\n",
    "- Which appropriate momentum indicator do we use to filter out low quality (ie: false positive) trading signals?\n",
    "    - Test different moving average window periods and backtest returns to see which filter provides the best return\n",
    "    - Consider optimizing for other momentum indicators such as relative strength and moving average convergence \n",
    "\n",
    "\n",
    "\n",
    "- Develop a predictive machine learning model to provide probabilities on whether the trade will be profitable.\n",
    "    - Use SMI's existing oscillator signals and integrate them into a machine learning model with other relevant features\n",
    "    - This model  can serve as a 'double-check' and provides a confidence level on whether we take on the trade"
   ]
  }
 ],
 "metadata": {
  "celltoolbar": "Slideshow",
  "kernelspec": {
   "display_name": "Python 3",
   "language": "python",
   "name": "python3"
  },
  "language_info": {
   "codemirror_mode": {
    "name": "ipython",
    "version": 3
   },
   "file_extension": ".py",
   "mimetype": "text/x-python",
   "name": "python",
   "nbconvert_exporter": "python",
   "pygments_lexer": "ipython3",
   "version": "3.7.6"
  }
 },
 "nbformat": 4,
 "nbformat_minor": 4
}
